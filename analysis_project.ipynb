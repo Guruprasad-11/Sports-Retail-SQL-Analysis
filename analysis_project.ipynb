{
 "cells": [
  {
   "cell_type": "markdown",
   "id": "91f7118c",
   "metadata": {},
   "source": [
    "#### Project Overview\n",
    "This project is a data analysis of an online sports retail company's product data. The main objective is to analyze various product attributes—such as pricing, reviews, descriptions, and revenue—to provide recommendations that can help the company optimize its revenue.\n",
    "\n",
    "#### Dataset and Tools\n",
    "The analysis is based on a dataset that was originally composed of five separate .csv files from Kaggle.\n",
    "- Data Source: The data has been loaded and combined into a single, in-memory SQLite database within this notebook.\n",
    "- Tools Used: This project uses Python libraries, including pandas for data manipulation and sqlite3 for running SQL queries on the in-memory database.\n",
    "\n",
    "#### Key Analysis Tasks\n",
    "1. Count the total number of products, along with the number of non-missing values in description, listing_price, and last_visited\n",
    "2. Find out how listing_price varies between Adidas and Nike products.\n",
    "3. Create labels for products grouped by price range and brand.\n",
    "4. Calculate the average discount offered by brand.\n",
    "5. Calculate the correlation between reviews and revenue.\n",
    "6. Split description into bins in increments of one hundred characters, and calculate average rating by for each bin.\n",
    "7. Count the number of reviews per brand per month.\n",
    "8. Create the footwear CTE, then calculate the number of products and average revenue from these items.\n",
    "9. Copy the code used to create footwear then use a filter to return only products that are not in the CTE."
   ]
  },
  {
   "cell_type": "code",
   "execution_count": 46,
   "id": "4f0ac8a7",
   "metadata": {},
   "outputs": [],
   "source": [
    "# %pip install pandas sqlite3"
   ]
  },
  {
   "cell_type": "code",
   "execution_count": 47,
   "id": "39587374",
   "metadata": {},
   "outputs": [
    {
     "name": "stdout",
     "output_type": "stream",
     "text": [
      "Data loaded into SQLite database successfully.\n"
     ]
    }
   ],
   "source": [
    "# Load Data and Create the Database\n",
    "import pandas as pd\n",
    "import sqlite3\n",
    "import os\n",
    "\n",
    "# Define the path to your dataset folder\n",
    "dataset_path = 'Dataset'\n",
    "\n",
    "# Load the datasets from the 'Dataset' folder\n",
    "brands = pd.read_csv(os.path.join(dataset_path, 'brands_v2.csv'))\n",
    "info = pd.read_csv(os.path.join(dataset_path, 'info_v2.csv'))\n",
    "finance = pd.read_csv(os.path.join(dataset_path, 'finance.csv'))\n",
    "traffic = pd.read_csv(os.path.join(dataset_path, 'traffic_v3.csv'))\n",
    "reviews = pd.read_csv(os.path.join(dataset_path, 'reviews_v2.csv'))\n",
    "\n",
    "# Create an in-memory SQLite database\n",
    "conn = sqlite3.connect(':memory:')\n",
    "\n",
    "# Load each DataFrame into a table in the database\n",
    "brands.to_sql('brands', conn, index=False, if_exists='replace')\n",
    "info.to_sql('info', conn, index=False, if_exists='replace')\n",
    "finance.to_sql('finance', conn, index=False, if_exists='replace')\n",
    "traffic.to_sql('traffic', conn, index=False, if_exists='replace')\n",
    "reviews.to_sql('reviews', conn, index=False, if_exists='replace')\n",
    "\n",
    "print(\"Data loaded into SQLite database successfully.\")"
   ]
  },
  {
   "cell_type": "code",
   "execution_count": 48,
   "id": "074328a7",
   "metadata": {},
   "outputs": [
    {
     "name": "stdout",
     "output_type": "stream",
     "text": [
      "Task 1: Missing Value Counts\n",
      "   total_products  count_description  count_listing_price  count_last_visited\n",
      "0            3120               3117                 3120                2876\n"
     ]
    }
   ],
   "source": [
    "query1 = \"\"\"\n",
    "SELECT\n",
    "    COUNT(B.product_id) AS total_products,\n",
    "    COUNT(I.description) AS count_description,\n",
    "    COUNT(F.listing_price) AS count_listing_price,\n",
    "    COUNT(T.last_visited) AS count_last_visited\n",
    "FROM brands AS B\n",
    "JOIN info AS I ON B.product_id = I.product_id\n",
    "JOIN finance AS F ON B.product_id = F.product_id\n",
    "JOIN traffic AS T ON B.product_id = T.product_id\n",
    "WHERE B.brand IS NOT NULL;\n",
    "\"\"\"\n",
    "result1 = pd.read_sql(query1, conn)\n",
    "print(\"Task 1: Missing Value Counts\")\n",
    "print(result1)"
   ]
  },
  {
   "cell_type": "code",
   "execution_count": 49,
   "id": "6161b388",
   "metadata": {},
   "outputs": [
    {
     "name": "stdout",
     "output_type": "stream",
     "text": [
      "\n",
      "Task 2: Nike vs. Adidas Pricing\n",
      "    brand  ProductsPerBrand    AvgPrice  LowestPrice  HighestPrice\n",
      "0  Adidas              2575   75.725146         8.99        299.99\n",
      "1    Nike               191  117.970942        29.95        199.95\n"
     ]
    }
   ],
   "source": [
    "query2 = \"\"\"\n",
    "SELECT\n",
    "    B.brand,\n",
    "    COUNT(F.product_id) AS ProductsPerBrand,\n",
    "    AVG(F.listing_price) AS AvgPrice,\n",
    "    MIN(F.listing_price) AS LowestPrice,\n",
    "    MAX(F.listing_price) AS HighestPrice\n",
    "FROM brands AS B\n",
    "JOIN finance AS F ON B.product_id = F.product_id\n",
    "WHERE F.listing_price > 0 AND B.brand IS NOT NULL\n",
    "GROUP BY B.brand\n",
    "ORDER BY B.brand;\n",
    "\"\"\"\n",
    "result2 = pd.read_sql(query2, conn)\n",
    "print(\"\\nTask 2: Nike vs. Adidas Pricing\")\n",
    "print(result2)"
   ]
  },
  {
   "cell_type": "code",
   "execution_count": 50,
   "id": "e5faa5ad",
   "metadata": {},
   "outputs": [
    {
     "name": "stdout",
     "output_type": "stream",
     "text": [
      "\n",
      "Task 3: Price Range Labels\n",
      "       brand  sale_price price_range_label\n",
      "0     Adidas       37.99               Low\n",
      "1     Adidas        5.99               Low\n",
      "2     Adidas       34.99               Low\n",
      "3     Adidas       39.99               Low\n",
      "4     Adidas       19.20               Low\n",
      "...      ...         ...               ...\n",
      "3115    Nike       64.95            Medium\n",
      "3116    Nike      139.95              High\n",
      "3117    Nike      127.97              High\n",
      "3118    Nike      169.95              High\n",
      "3119    Nike       62.97            Medium\n",
      "\n",
      "[3120 rows x 3 columns]\n"
     ]
    }
   ],
   "source": [
    "query3 = \"\"\"\n",
    "SELECT\n",
    "    B.brand,\n",
    "    F.sale_price,\n",
    "    CASE\n",
    "        WHEN F.sale_price <= 50 THEN 'Low'\n",
    "        WHEN F.sale_price BETWEEN 51 AND 100 THEN 'Medium'\n",
    "        WHEN F.sale_price BETWEEN 101 AND 250 THEN 'High'\n",
    "        ELSE 'Very High'\n",
    "    END AS price_range_label\n",
    "FROM finance AS F\n",
    "JOIN brands AS B ON F.product_id = B.product_id\n",
    "WHERE B.brand IS NOT NULL;\n",
    "\"\"\"\n",
    "result3 = pd.read_sql(query3, conn)\n",
    "print(\"\\nTask 3: Price Range Labels\")\n",
    "print(result3)"
   ]
  },
  {
   "cell_type": "code",
   "execution_count": 51,
   "id": "6025269d",
   "metadata": {},
   "outputs": [
    {
     "name": "stdout",
     "output_type": "stream",
     "text": [
      "\n",
      "Task 4: Average Discount by Brand\n",
      "    brand  AvgDiscount\n",
      "0  Adidas    33.458081\n",
      "1    Nike    28.552710\n"
     ]
    }
   ],
   "source": [
    "query4 = \"\"\"\n",
    "SELECT\n",
    "    B.brand,\n",
    "    AVG((F.listing_price - F.sale_price) * 1.0 / F.listing_price) * 100 AS AvgDiscount\n",
    "FROM brands AS B\n",
    "JOIN finance AS F ON B.product_id = F.product_id\n",
    "WHERE F.listing_price > 0 AND B.brand IS NOT NULL\n",
    "GROUP BY B.brand\n",
    "ORDER BY B.brand;\n",
    "\"\"\"\n",
    "result4 = pd.read_sql(query4, conn)\n",
    "print(\"\\nTask 4: Average Discount by Brand\")\n",
    "print(result4)"
   ]
  },
  {
   "cell_type": "code",
   "execution_count": 52,
   "id": "5167c544",
   "metadata": {},
   "outputs": [
    {
     "name": "stdout",
     "output_type": "stream",
     "text": [
      "\n",
      "Task 5: Correlation between Reviews and Revenue\n",
      "   Corr_Reviews_Revenue\n",
      "0              0.651851\n"
     ]
    }
   ],
   "source": [
    "query5 = \"\"\"\n",
    "SELECT\n",
    "    (COUNT(*) * SUM(R.reviews * F.revenue) - SUM(R.reviews) * SUM(F.revenue)) /\n",
    "    (SQRT(COUNT(*) * SUM(R.reviews * R.reviews) - POWER(SUM(R.reviews), 2)) *\n",
    "     SQRT(COUNT(*) * SUM(F.revenue * F.revenue) - POWER(SUM(F.revenue), 2))) AS Corr_Reviews_Revenue\n",
    "FROM reviews AS R\n",
    "JOIN finance AS F ON R.product_id = F.product_id\n",
    "JOIN brands AS B ON B.product_id = F.product_id\n",
    "WHERE B.brand IS NOT NULL;\n",
    "\"\"\"\n",
    "result5 = pd.read_sql(query5, conn)\n",
    "print(\"\\nTask 5: Correlation between Reviews and Revenue\")\n",
    "print(result5)"
   ]
  },
  {
   "cell_type": "code",
   "execution_count": 53,
   "id": "c17da0a0",
   "metadata": {},
   "outputs": [
    {
     "name": "stdout",
     "output_type": "stream",
     "text": [
      "\n",
      "Task 6: Average Rating by Description Length Bin\n",
      "   Bins  AvgRating\n",
      "0     1   2.257143\n",
      "1     2   3.185551\n",
      "2     3   3.277815\n",
      "3     4   3.285407\n",
      "4     5   3.345763\n",
      "5     6   3.120000\n",
      "6     7   3.653333\n"
     ]
    }
   ],
   "source": [
    "query6 = \"\"\"\n",
    "SELECT\n",
    "    CAST(CEILING(LENGTH(I.description) * 1.0 / 100) AS INTEGER) AS Bins,\n",
    "    AVG(R.rating) AS AvgRating\n",
    "FROM info AS I\n",
    "JOIN reviews AS R ON I.product_id = R.product_id\n",
    "WHERE I.description IS NOT NULL\n",
    "GROUP BY Bins\n",
    "ORDER BY Bins;\n",
    "\"\"\"\n",
    "result6 = pd.read_sql(query6, conn)\n",
    "print(\"\\nTask 6: Average Rating by Description Length Bin\")\n",
    "print(result6)"
   ]
  },
  {
   "cell_type": "code",
   "execution_count": 54,
   "id": "0eadab36",
   "metadata": {},
   "outputs": [
    {
     "name": "stdout",
     "output_type": "stream",
     "text": [
      "\n",
      "Task 7: Reviews by Month and Brand\n",
      "     brand Month  TotalReviews\n",
      "0   Adidas    01       11852.0\n",
      "1   Adidas    02       13372.0\n",
      "2   Adidas    03       12987.0\n",
      "3   Adidas    04        9145.0\n",
      "4   Adidas    05        7358.0\n",
      "5   Adidas    06        7773.0\n",
      "6   Adidas    07        8564.0\n",
      "7   Adidas    08        9813.0\n",
      "8   Adidas    09        9246.0\n",
      "9   Adidas    10       10095.0\n",
      "10  Adidas    11        6999.0\n",
      "11  Adidas    12        9099.0\n",
      "12    Nike    01         307.0\n",
      "13    Nike    02         357.0\n",
      "14    Nike    03         577.0\n",
      "15    Nike    04         277.0\n",
      "16    Nike    05         592.0\n",
      "17    Nike    06         259.0\n",
      "18    Nike    07         422.0\n",
      "19    Nike    08         147.0\n",
      "20    Nike    09         202.0\n",
      "21    Nike    10         197.0\n",
      "22    Nike    11         226.0\n",
      "23    Nike    12         317.0\n"
     ]
    }
   ],
   "source": [
    "query7 = \"\"\"\n",
    "SELECT\n",
    "    B.brand,\n",
    "    STRFTIME('%m', T.last_visited) AS Month,\n",
    "    SUM(R.reviews) AS TotalReviews\n",
    "FROM brands AS B\n",
    "JOIN reviews AS R ON B.product_id = R.product_id\n",
    "JOIN traffic AS T ON B.product_id = T.product_id\n",
    "WHERE T.last_visited IS NOT NULL AND B.brand IS NOT NULL\n",
    "GROUP BY B.brand, Month\n",
    "ORDER BY B.brand, Month;\n",
    "\"\"\"\n",
    "result7 = pd.read_sql(query7, conn)\n",
    "print(\"\\nTask 7: Reviews by Month and Brand\")\n",
    "print(result7)"
   ]
  },
  {
   "cell_type": "code",
   "execution_count": 55,
   "id": "c31a1e2d",
   "metadata": {},
   "outputs": [
    {
     "name": "stdout",
     "output_type": "stream",
     "text": [
      "\n",
      "Task 8: Footwear Product Performance\n",
      "   ProductCount   AvgRevenue\n",
      "0          2700  4235.461315\n"
     ]
    }
   ],
   "source": [
    "query8 = \"\"\"\n",
    "WITH footwear AS (\n",
    "    SELECT product_id\n",
    "    FROM info\n",
    "    WHERE description LIKE '%shoe%' OR description LIKE '%trainer%' OR description LIKE '%foot%'\n",
    ")\n",
    "SELECT\n",
    "    COUNT(*) AS ProductCount,\n",
    "    AVG(F.revenue) AS AvgRevenue\n",
    "FROM footwear AS FW\n",
    "JOIN finance AS F ON FW.product_id = F.product_id;\n",
    "\"\"\"\n",
    "result8 = pd.read_sql(query8, conn)\n",
    "print(\"\\nTask 8: Footwear Product Performance\")\n",
    "print(result8)"
   ]
  },
  {
   "cell_type": "code",
   "execution_count": 56,
   "id": "0d043831",
   "metadata": {},
   "outputs": [
    {
     "name": "stdout",
     "output_type": "stream",
     "text": [
      "\n",
      "Task 9: Clothing Product Performance\n",
      "   ProductCount   AvgRevenue\n",
      "0           417  2080.244964\n"
     ]
    }
   ],
   "source": [
    "query9 = \"\"\"\n",
    "WITH footwear AS (\n",
    "    SELECT product_id\n",
    "    FROM info\n",
    "    WHERE description LIKE '%shoe%' OR description LIKE '%trainer%' OR description LIKE '%foot%'\n",
    ")\n",
    "SELECT\n",
    "    COUNT(*) AS ProductCount,\n",
    "    AVG(F.revenue) AS AvgRevenue\n",
    "FROM info AS I\n",
    "JOIN finance AS F ON I.product_id = F.product_id\n",
    "LEFT JOIN footwear AS FW ON FW.product_id = I.product_id\n",
    "WHERE FW.product_id IS NULL AND I.description IS NOT NULL;\n",
    "\"\"\"\n",
    "result9 = pd.read_sql(query9, conn)\n",
    "print(\"\\nTask 9: Clothing Product Performance\")\n",
    "print(result9)\n",
    "\n",
    "conn.close()"
   ]
  }
 ],
 "metadata": {
  "kernelspec": {
   "display_name": "Python 3",
   "language": "python",
   "name": "python3"
  },
  "language_info": {
   "codemirror_mode": {
    "name": "ipython",
    "version": 3
   },
   "file_extension": ".py",
   "mimetype": "text/x-python",
   "name": "python",
   "nbconvert_exporter": "python",
   "pygments_lexer": "ipython3",
   "version": "3.13.4"
  }
 },
 "nbformat": 4,
 "nbformat_minor": 5
}
